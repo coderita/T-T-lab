{
 "cells": [
  {
   "cell_type": "code",
   "execution_count": 2,
   "id": "4b79b8ad",
   "metadata": {},
   "outputs": [
    {
     "name": "stdout",
     "output_type": "stream",
     "text": [
      "Number please !-76\n",
      "Negetive Number\n"
     ]
    }
   ],
   "source": [
    "#WAP TO CHECK THE SIGN OF A NUMBER(POSITIVE NEGETIVE OR ZERO) USING FUNCTION\n",
    "\n",
    "def check (num):\n",
    "    if num==0:\n",
    "        print(\"The no is Zero neither positive nor negetive\") \n",
    "    elif num>0:\n",
    "        print(\"Positive number\")\n",
    "    else:\n",
    "        print(\"Negetive Number\")\n",
    "        \n",
    "n=int(input(\"Number please !\")) \n",
    "check(n)"
   ]
  },
  {
   "cell_type": "code",
   "execution_count": 3,
   "id": "ac682944",
   "metadata": {},
   "outputs": [
    {
     "name": "stdout",
     "output_type": "stream",
     "text": [
      "Positive number\n"
     ]
    }
   ],
   "source": [
    "check(788)"
   ]
  },
  {
   "cell_type": "code",
   "execution_count": 4,
   "id": "56814ded",
   "metadata": {},
   "outputs": [
    {
     "name": "stdout",
     "output_type": "stream",
     "text": [
      "Date is: 29\n",
      "Month is:  3\n",
      "Year is: 2022\n"
     ]
    }
   ],
   "source": [
    "# DISPLAY DATE WITH DD MONTH YEAR \n",
    "def display (dd, mm, yr): \n",
    "    print(\"Date is: \"+str(dd)) \n",
    "    print (\"Month is: \",mm) \n",
    "    print(\"Year is: \"+str(yr))\n",
    "\n",
    "def prnt():\n",
    "    display (29,3,2022)\n",
    "prnt ()"
   ]
  },
  {
   "cell_type": "code",
   "execution_count": 5,
   "id": "f18dc3f6",
   "metadata": {},
   "outputs": [
    {
     "name": "stdout",
     "output_type": "stream",
     "text": [
      "Date is: 25\n",
      "Month is:  5\n",
      "Year is: 2019\n"
     ]
    }
   ],
   "source": [
    "display (25,5,2019)"
   ]
  },
  {
   "cell_type": "code",
   "execution_count": 6,
   "id": "ccbb9cb7",
   "metadata": {},
   "outputs": [
    {
     "name": "stdout",
     "output_type": "stream",
     "text": [
      "Date is: 16\n",
      "Month is:  7\n",
      "Year is: 2017\n"
     ]
    }
   ],
   "source": [
    "#KEYWORD ARGUMENT\n",
    "display(yr=2017,mm=7,dd=16)"
   ]
  },
  {
   "cell_type": "code",
   "execution_count": 7,
   "id": "f5924672",
   "metadata": {},
   "outputs": [
    {
     "name": "stdout",
     "output_type": "stream",
     "text": [
      "('T&T LAB', '6TH CSCE', 72)\n"
     ]
    }
   ],
   "source": [
    "#ARBITRARY ARGUMENTS \n",
    "def values(*data): \n",
    "    print (data)\n",
    "values (\"T&T LAB\", \"6TH CSCE\", 72)"
   ]
  },
  {
   "cell_type": "code",
   "execution_count": 8,
   "id": "0c2e836c",
   "metadata": {},
   "outputs": [
    {
     "name": "stdout",
     "output_type": "stream",
     "text": [
      "T&T LAB\n",
      "6TH CSCE\n",
      "72\n",
      "Rock on students\n"
     ]
    }
   ],
   "source": [
    "#ARBITRARY ARGUMENTS \n",
    "def values (*data):\n",
    "    for item in data:\n",
    "        print(item)\n",
    "\n",
    "values (\"T&T LAB\", \"6TH CSCE\", 72, \"Rock on students\")"
   ]
  },
  {
   "cell_type": "code",
   "execution_count": 10,
   "id": "ebd85291",
   "metadata": {},
   "outputs": [
    {
     "name": "stdout",
     "output_type": "stream",
     "text": [
      "Volume of Sphere is: 1436.7550402417319\n"
     ]
    }
   ],
   "source": [
    "#FUNCTION WITH RETURN\n",
    "#WAP TO FIND THE VOLUME OF A SPHERE 4/3 PI*R*3\n",
    "import math\n",
    "def volume_sphere (rad):\n",
    "    val=(4.0/3.0)*math.pi*rad**3\n",
    "    return val\n",
    "\n",
    "print(\"Volume of Sphere is:\",volume_sphere (7))"
   ]
  },
  {
   "cell_type": "code",
   "execution_count": 11,
   "id": "406418ae",
   "metadata": {},
   "outputs": [
    {
     "data": {
      "text/plain": [
       "31"
      ]
     },
     "execution_count": 11,
     "metadata": {},
     "output_type": "execute_result"
    }
   ],
   "source": [
    "#ANONYMOUS FUNCTION - LAMBDA FUNCTION \n",
    "#Lambda arguments: single expression\n",
    "\n",
    "value=lambda x,y,z,p:x+y*z-p\n",
    "value(5,12,3,10)"
   ]
  },
  {
   "cell_type": "code",
   "execution_count": 12,
   "id": "b65e4579",
   "metadata": {},
   "outputs": [
    {
     "name": "stdout",
     "output_type": "stream",
     "text": [
      "25\n",
      "216\n",
      "64\n"
     ]
    }
   ],
   "source": [
    "#WAP TO FIND SQUARE AND CUBE OF ANY VALUE using Lambda \n",
    "def result(n):\n",
    "    return lambda x:x**n\n",
    "square=result(2) \n",
    "cube=result (3)\n",
    "pow4=result(4)\n",
    "print (square (5))\n",
    "print (cube (6)) \n",
    "print(cube (4))"
   ]
  },
  {
   "cell_type": "code",
   "execution_count": 14,
   "id": "cfd7a83b",
   "metadata": {},
   "outputs": [
    {
     "name": "stdout",
     "output_type": "stream",
     "text": [
      "[1, 4, 9, 16, 25, 36]\n"
     ]
    }
   ],
   "source": [
    "#MAP FUNCTION MAP (function, iterator) \n",
    "#input: list of 6 natural nos \n",
    "#ouput: square of each nos \n",
    "listn=[1,2,3,4,5,6] \n",
    "def square (l): \n",
    "    return l**2\n",
    "\n",
    "print (list (map(square, listn)))"
   ]
  },
  {
   "cell_type": "code",
   "execution_count": 16,
   "id": "50b884db",
   "metadata": {},
   "outputs": [
    {
     "name": "stdout",
     "output_type": "stream",
     "text": [
      "[11, 5, 6, 7, 14, 3]\n"
     ]
    }
   ],
   "source": [
    "#ip: List of cities\n",
    "#op: Length of each city\n",
    "city=['bhubaneswar', 'patna', 'kanpur', 'cuttack', 'Vishakhapatnam', 'goa']\n",
    "def length(c):\n",
    "    return len(c)\n",
    "\n",
    "m=map(length, city) \n",
    "print (list (m))"
   ]
  },
  {
   "cell_type": "code",
   "execution_count": 20,
   "id": "010988b8",
   "metadata": {},
   "outputs": [
    {
     "name": "stdout",
     "output_type": "stream",
     "text": [
      "[False, False, True, True, False]\n"
     ]
    }
   ],
   "source": [
    "# check the no is even or not using filter \n",
    "list2=[23,45,12,34,89] \n",
    "def check (x): \n",
    "    return x%2==0\n",
    "print (list (map (check, list2)))"
   ]
  },
  {
   "cell_type": "code",
   "execution_count": 21,
   "id": "5563e3d6",
   "metadata": {},
   "outputs": [
    {
     "name": "stdout",
     "output_type": "stream",
     "text": [
      "[12, 34]\n"
     ]
    }
   ],
   "source": [
    "val=list(filter (check, list2))\n",
    "print (val)"
   ]
  },
  {
   "cell_type": "markdown",
   "id": "a1180e36",
   "metadata": {},
   "source": [
    "# ASSIGNMENT"
   ]
  },
  {
   "cell_type": "code",
   "execution_count": 2,
   "id": "01d6221d",
   "metadata": {},
   "outputs": [
    {
     "name": "stdout",
     "output_type": "stream",
     "text": [
      "The factorial of 7 is 5040\n"
     ]
    }
   ],
   "source": [
    "#WAP to calculate the factorial of a given number.\n",
    "def factorial(x):\n",
    "    \"\"\"This is a recursive function\n",
    "    to find the factorial of an integer\"\"\"\n",
    "\n",
    "    if x == 1:\n",
    "        return 1\n",
    "    else:\n",
    "        # recursive call to the function\n",
    "        return (x * factorial(x-1))\n",
    "\n",
    "\n",
    "# change the value for a different result\n",
    "num = 7\n",
    "\n",
    "# to take input from the user\n",
    "# num = int(input(\"Enter a number: \"))\n",
    "\n",
    "# call the factorial function\n",
    "result = factorial(num)\n",
    "print(\"The factorial of\", num, \"is\", result)"
   ]
  },
  {
   "cell_type": "code",
   "execution_count": 3,
   "id": "a5c27171",
   "metadata": {},
   "outputs": [
    {
     "name": "stdout",
     "output_type": "stream",
     "text": [
      "15\n"
     ]
    }
   ],
   "source": [
    "#WAP to calculate the sum of digits of a given number.\n",
    "def sumDigits(no):\n",
    "    return 0 if no == 0 else int(no % 10) + sumDigits(int(no / 10)) \n",
    "   \n",
    "# Driver code\n",
    "n = 12345\n",
    "print(sumDigits(n))"
   ]
  },
  {
   "cell_type": "code",
   "execution_count": 4,
   "id": "46a68dd9",
   "metadata": {},
   "outputs": [
    {
     "name": "stdout",
     "output_type": "stream",
     "text": [
      "654321\n"
     ]
    }
   ],
   "source": [
    "#WAP to display the reverse of a number entered through keyboard.\n",
    "num = 123456\n",
    "print(str(num)[::-1])"
   ]
  },
  {
   "cell_type": "code",
   "execution_count": 5,
   "id": "3f3a668a",
   "metadata": {},
   "outputs": [
    {
     "name": "stdout",
     "output_type": "stream",
     "text": [
      "The HCF is 100\n"
     ]
    }
   ],
   "source": [
    "#WAP to find the GCD/HCF of two numbers\n",
    "def compute_hcf(x, y):\n",
    "   while(y):\n",
    "       x, y = y, x % y\n",
    "   return x\n",
    "\n",
    "hcf = compute_hcf(300, 400)\n",
    "print(\"The HCF is\", hcf)"
   ]
  },
  {
   "cell_type": "code",
   "execution_count": 6,
   "id": "425f91a3",
   "metadata": {},
   "outputs": [
    {
     "name": "stdout",
     "output_type": "stream",
     "text": [
      "Below are all perfect numbers till 10000\n",
      "6  is a perfect number\n",
      "28  is a perfect number\n",
      "496  is a perfect number\n",
      "8128  is a perfect number\n"
     ]
    }
   ],
   "source": [
    "#WAP to check whether a number n is prime number or not. /*Hints: A number is a perfect number if is equal to sum of its proper divisors, that is, sum of its positive divisors excluding the number itself. Write a function to check if a given number is perfect or not. The first perfect number is 6, because 1, 2,and 3 are its proper positive divisors, and 1 + 2 + 3 = 6*/\n",
    "def isPerfect( n ):\n",
    "     \n",
    "    # To store sum of divisors\n",
    "    sum = 1\n",
    "     \n",
    "    # Find all divisors and add them\n",
    "    i = 2\n",
    "    while i * i <= n:\n",
    "        if n % i == 0:\n",
    "            sum = sum + i + n/i\n",
    "        i += 1\n",
    "     \n",
    "    # If sum of divisors is equal to\n",
    "    # n, then n is a perfect number\n",
    "     \n",
    "    return (True if sum == n and n!=1 else False)\n",
    " \n",
    "# Driver program\n",
    "print(\"Below are all perfect numbers till 10000\")\n",
    "n = 2\n",
    "for n in range (10000):\n",
    "    if isPerfect (n):\n",
    "        print(n , \" is a perfect number\")"
   ]
  },
  {
   "cell_type": "code",
   "execution_count": 7,
   "id": "e9e20d73",
   "metadata": {},
   "outputs": [
    {
     "name": "stdout",
     "output_type": "stream",
     "text": [
      "Enter the start of range: 3\n",
      "Enter the end of range: 9\n",
      "4 6 8 "
     ]
    }
   ],
   "source": [
    "#WAP to print all odd and even numbers separately within a given range. The range is input through user.\n",
    "start = int(input(\"Enter the start of range: \"))\n",
    "end = int(input(\"Enter the end of range: \"))\n",
    "  \n",
    "#create a list that contains only Even numbers in given range\n",
    "even_list = range(start, end + 1)[start%2::2]\n",
    "  \n",
    "for num in even_list:\n",
    "    print(num, end = \" \")"
   ]
  },
  {
   "cell_type": "code",
   "execution_count": 9,
   "id": "bc0dc1d1",
   "metadata": {},
   "outputs": [],
   "source": [
    "#WAP to evaluate the equation y=x n where n is a non-negative integer."
   ]
  },
  {
   "cell_type": "code",
   "execution_count": 10,
   "id": "5a8f486e",
   "metadata": {},
   "outputs": [
    {
     "name": "stdout",
     "output_type": "stream",
     "text": [
      "Enter any number: 34\n",
      "The number is not a Perfect number!\n"
     ]
    }
   ],
   "source": [
    "#WAP to check whether an input integer is perfect number or not.\n",
    "n = int(input(\"Enter any number: \"))\n",
    "sum1 = 0\n",
    "for i in range(1, n):\n",
    "    if(n % i == 0):\n",
    "        sum1 = sum1 + i\n",
    "if (sum1 == n):\n",
    "    print(\"The number is a Perfect number!\")\n",
    "else:\n",
    "    print(\"The number is not a Perfect number!\")"
   ]
  },
  {
   "cell_type": "code",
   "execution_count": 11,
   "id": "f30f19fd",
   "metadata": {},
   "outputs": [
    {
     "name": "stdout",
     "output_type": "stream",
     "text": [
      "Enter a number:45\n",
      "Given number is not a strong number\n"
     ]
    }
   ],
   "source": [
    "#WAP to check whether an input integer is strong number or not. (Hint: If the sum of factorials of all digits of a number are equal to the number are equal to the number, it is called a strong number )\n",
    "# Variable to store sum of the numbers  \n",
    "sum=0  \n",
    "# Ask user to enter the number  \n",
    "num=int(input(\"Enter a number:\"))  \n",
    "# temporary variable  store copy of the original number  \n",
    "temp=num  \n",
    "# Using while loop  \n",
    "while(num):  \n",
    "    # intialize with 1  \n",
    "    i=1  \n",
    "    # fact variable with 1  \n",
    "    fact=1  \n",
    "    rem=num%10  \n",
    "    while(i<=rem):  \n",
    "        fact=fact*i   # Find factorial of each number  \n",
    "        i=i+1  \n",
    "    sum=sum+fact  \n",
    "    num=num//10  \n",
    "if(sum==temp):  \n",
    "    print(\"Given number is a strong number\")  \n",
    "else:  \n",
    "    print(\"Given number is not a strong number\") "
   ]
  },
  {
   "cell_type": "code",
   "execution_count": 12,
   "id": "887348dc",
   "metadata": {},
   "outputs": [
    {
     "name": "stdout",
     "output_type": "stream",
     "text": [
      "How many terms? 6\n",
      "Fibonacci sequence:\n",
      "0\n",
      "1\n",
      "1\n",
      "2\n",
      "3\n",
      "5\n"
     ]
    }
   ],
   "source": [
    "# Program to display the Fibonacci sequence up to n-th term\n",
    "\n",
    "nterms = int(input(\"How many terms? \"))\n",
    "\n",
    "# first two terms\n",
    "n1, n2 = 0, 1\n",
    "count = 0\n",
    "\n",
    "# check if the number of terms is valid\n",
    "if nterms <= 0:\n",
    "   print(\"Please enter a positive integer\")\n",
    "# if there is only one term, return n1\n",
    "elif nterms == 1:\n",
    "   print(\"Fibonacci sequence upto\",nterms,\":\")\n",
    "   print(n1)\n",
    "# generate fibonacci sequence\n",
    "else:\n",
    "   print(\"Fibonacci sequence:\")\n",
    "   while count < nterms:\n",
    "       print(n1)\n",
    "       nth = n1 + n2\n",
    "       # update values\n",
    "       n1 = n2\n",
    "       n2 = nth\n",
    "       count += 1"
   ]
  },
  {
   "cell_type": "code",
   "execution_count": 14,
   "id": "8ddefdaf",
   "metadata": {},
   "outputs": [
    {
     "name": "stdout",
     "output_type": "stream",
     "text": [
      "Enter the range of number(Limit):7\n",
      "1 3 7 15 31 63 127 "
     ]
    }
   ],
   "source": [
    "#WAP to print the series as 1 2 7 15 31 ..........n, where n is given by user.\n",
    "n=int(input(\"Enter the range of number(Limit):\"))\n",
    "i=1\n",
    "pr=0\n",
    "while i<=n:\n",
    "    pr = (pr * 2) + 1\n",
    "    print(pr,end=\" \")\n",
    "    i+=1"
   ]
  },
  {
   "cell_type": "code",
   "execution_count": 15,
   "id": "66933126",
   "metadata": {},
   "outputs": [
    {
     "name": "stdout",
     "output_type": "stream",
     "text": [
      "The prime numbers in this range are:  [2, 3, 5]\n"
     ]
    }
   ],
   "source": [
    "#WAP to print the series as 3 5 7 11 13 17..........n, where n is given by user.\n",
    "def prime(x, y):\n",
    "    prime_list = []\n",
    "    for i in range(x, y):\n",
    "        if i == 0 or i == 1:\n",
    "            continue\n",
    "        else:\n",
    "            for j in range(2, int(i/2)+1):\n",
    "                if i % j == 0:\n",
    "                    break\n",
    "            else:\n",
    "                prime_list.append(i)\n",
    "    return prime_list\n",
    " \n",
    "# Driver program\n",
    "starting_range = 2\n",
    "ending_range = 7\n",
    "lst = prime(starting_range, ending_range)\n",
    "if len(lst) == 0:\n",
    "    print(\"There are no prime numbers in this range\")\n",
    "else:\n",
    "    print(\"The prime numbers in this range are: \", lst)"
   ]
  },
  {
   "cell_type": "code",
   "execution_count": 1,
   "id": "b1380c2f",
   "metadata": {},
   "outputs": [
    {
     "name": "stdout",
     "output_type": "stream",
     "text": [
      "220.0\n"
     ]
    }
   ],
   "source": [
    "#WAP to sum the following series S=1+(1+2)+(1+2+3)+...+(1+2+3+...+n)\n",
    "def sumOfSeries(n):\n",
    "    return sum([i*(i+1)/2 for i in range(1, n + 1)])\n",
    " \n",
    "# Driver Code\n",
    "if __name__ == \"__main__\":\n",
    "    n = 10\n",
    "    print(sumOfSeries(n))"
   ]
  },
  {
   "cell_type": "code",
   "execution_count": 17,
   "id": "5945c2c4",
   "metadata": {},
   "outputs": [
    {
     "name": "stdout",
     "output_type": "stream",
     "text": [
      "Enter the number of rows5\n",
      "* \n",
      "* * \n",
      "* * * \n",
      "* * * * \n",
      "* * * * * \n"
     ]
    }
   ],
   "source": [
    "#WAP to print the following pattern for n rows. Ex. for n=5 rows\n",
    "# This is the example of print simple pyramid pattern  \n",
    "n = int(input(\"Enter the number of rows\"))  \n",
    "# outer loop to handle number of rows  \n",
    "for i in range(0, n):  \n",
    "    # inner loop to handle number of columns  \n",
    "    # values is changing according to outer loop  \n",
    "        for j in range(0, i + 1):  \n",
    "            # printing stars  \n",
    "            print(\"* \", end=\"\")       \n",
    "  \n",
    "        # ending line after each row  \n",
    "        print()  "
   ]
  },
  {
   "cell_type": "code",
   "execution_count": 19,
   "id": "c6280687",
   "metadata": {},
   "outputs": [
    {
     "name": "stdout",
     "output_type": "stream",
     "text": [
      "Enter the number of rows: 5\n",
      "        *   \n",
      "       *  *   \n",
      "      *  *  *   \n",
      "     *  *  *  *   \n",
      "    *  *  *  *  *   \n"
     ]
    }
   ],
   "source": [
    "#WAP to print the Following pattern for n rows. Ex. for n=5 rows\n",
    "n = int(input(\"Enter the number of rows: \"))  \n",
    "m = (2 * n) - 2  \n",
    "for i in range(0, n):  \n",
    "    for j in range(0, m):  \n",
    "        print(end=\" \")  \n",
    "    m = m - 1  # decrementing m after each loop  \n",
    "    for j in range(0, i + 1):  \n",
    "        # printing full Triangle pyramid using stars  \n",
    "        print(\"* \", end=' ')  \n",
    "    print(\" \")  "
   ]
  },
  {
   "cell_type": "code",
   "execution_count": 3,
   "id": "2832dc0d",
   "metadata": {},
   "outputs": [
    {
     "name": "stdout",
     "output_type": "stream",
     "text": [
      "The decimal value of 344 is:\n",
      "0b101011000 in binary.\n",
      "0o530 in octal.\n",
      "0x158 in hexadecimal.\n"
     ]
    }
   ],
   "source": [
    "\n",
    "# Python program to convert decimal into other number systems\n",
    "dec = 344\n",
    "\n",
    "print(\"The decimal value of\", dec, \"is:\")\n",
    "print(bin(dec), \"in binary.\")\n",
    "print(oct(dec), \"in octal.\")\n",
    "print(hex(dec), \"in hexadecimal.\")\n"
   ]
  },
  {
   "cell_type": "code",
   "execution_count": 21,
   "id": "b91c1dac",
   "metadata": {},
   "outputs": [
    {
     "name": "stdout",
     "output_type": "stream",
     "text": [
      "Decimal equivalent of 11A in base 16 is 282\n"
     ]
    }
   ],
   "source": [
    "#WAP to convert a number with base b into its equivalent decimal number. Number with base b &amp; b are the user input.\n",
    "def val(c):\n",
    "    if c >= '0' and c <= '9':\n",
    "        return ord(c) - ord('0')\n",
    "    else:\n",
    "        return ord(c) - ord('A') + 10;\n",
    " \n",
    "# Function to convert a number\n",
    "# from given base 'b' to decimal\n",
    "def toDeci(str,base):\n",
    "    llen = len(str)\n",
    "    power = 1 #Initialize power of base\n",
    "    num = 0     #Initialize result\n",
    " \n",
    "    # Decimal equivalent is str[len-1]*1 +\n",
    "    # str[len-2]base + str[len-3](base^2) + ...\n",
    "    for i in range(llen - 1, -1, -1):\n",
    "         \n",
    "        # A digit in input number must\n",
    "        # be less than number's base\n",
    "        if val(str[i]) >= base:\n",
    "            print('Invalid Number')\n",
    "            return -1\n",
    "        num += val(str[i]) * power\n",
    "        power = power * base\n",
    "    return num\n",
    "     \n",
    "# Driver code\n",
    "strr = \"11A\"\n",
    "base = 16\n",
    "print('Decimal equivalent of', strr,\n",
    "              'in base', base, 'is',\n",
    "                 toDeci(strr, base))"
   ]
  },
  {
   "cell_type": "code",
   "execution_count": null,
   "id": "0ab22a59",
   "metadata": {},
   "outputs": [],
   "source": [
    "#WAP to convert a decimal number into its equivalent number with base b. Decimal number and b are the user input.\n",
    "def reVal(num):\n",
    " \n",
    "    if (num >= 0 and num <= 9):\n",
    "        return chr(num + ord('0'));\n",
    "    else:\n",
    "        return chr(num - 10 + ord('A'));\n",
    " \n",
    "# Utility function to reverse a string\n",
    "def strev(str):\n",
    " \n",
    "    len = len(str);\n",
    "    for i in range(int(len / 2)):\n",
    "        temp = str[i];\n",
    "        str[i] = str[len - i - 1];\n",
    "        str[len - i - 1] = temp;\n",
    " \n",
    "# Function to convert a given decimal\n",
    "# number to a base 'base' and\n",
    "def fromDeci(res, base, inputNum):\n",
    " \n",
    "    index = 0; # Initialize index of result\n",
    " \n",
    "    # Convert input number is given base\n",
    "    # by repeatedly dividing it by base\n",
    "    # and taking remainder\n",
    "    while (inputNum > 0):\n",
    "        res+= reVal(inputNum % base);\n",
    "        inputNum = int(inputNum / base);\n",
    " \n",
    "    # Reverse the result\n",
    "    res = res[::-1];\n",
    " \n",
    "    return res;\n",
    " \n",
    "# Driver Code\n",
    "inputNum = 282;\n",
    "base = 16;\n",
    "res = \"\";\n",
    "print(\"Equivalent of\", inputNum, \"in base\",\n",
    "       base, \"is\", fromDeci(res, base, inputNum));\n",
    " \n",
    "# This code is contributed by mits"
   ]
  },
  {
   "cell_type": "code",
   "execution_count": 22,
   "id": "c630e1ce",
   "metadata": {},
   "outputs": [
    {
     "name": "stdout",
     "output_type": "stream",
     "text": [
      "      1 \n",
      "     1 1 \n",
      "    1 2 1 \n",
      "   1 3 3 1 \n",
      "  1 4 6 4 1 \n"
     ]
    }
   ],
   "source": [
    "#WAP to generate the pascal triangle pyramid of numbers for a given number.\n",
    "# Print Pascal's Triangle in Python\n",
    "from math import factorial\n",
    " \n",
    "# input n\n",
    "n = 5\n",
    "for i in range(n):\n",
    "    for j in range(n-i+1):\n",
    " \n",
    "        # for left spacing\n",
    "        print(end=\" \")\n",
    " \n",
    "    for j in range(i+1):\n",
    " \n",
    "        # nCr = n!/((n-r)!*r!)\n",
    "        print(factorial(i)//(factorial(j)*factorial(i-j)), end=\" \")\n",
    " \n",
    "    # for new line\n",
    "    print()"
   ]
  },
  {
   "cell_type": "code",
   "execution_count": 23,
   "id": "a6bf69c1",
   "metadata": {},
   "outputs": [
    {
     "name": "stdout",
     "output_type": "stream",
     "text": [
      "FOdkwga4\n"
     ]
    }
   ],
   "source": [
    "#2. Write a password generator in Python. Be creative with how you generate passwords - strong passwords have a mix of lowercase letters, uppercase letters, numbers, and symbols.The passwords should be random, generating a new password every time the user asks for a new password. Include your code in a main method.Extra:Ask the user how strong they want their password to be. For weak passwords, pick a word or two from a list\n",
    "import string\n",
    "import random\n",
    "s = \"abcdefghijklmnopqrstuvwxyz01234567890ABCDEFGHIJKLMNOPQRSTUVWXYZ!@#$%^&*()?\"\n",
    "passlen = 8\n",
    "p =  \"\".join(random.sample(s,passlen ))\n",
    "print (p)"
   ]
  },
  {
   "cell_type": "code",
   "execution_count": 24,
   "id": "cfd475c9",
   "metadata": {},
   "outputs": [
    {
     "name": "stdout",
     "output_type": "stream",
     "text": [
      "All the permutations of the string are: \n",
      "ABC\n",
      "ACB\n",
      "BAC\n",
      "BCA\n",
      "CBA\n",
      "CAB\n"
     ]
    }
   ],
   "source": [
    "#3. A permutation is simply a name for a reordering. So the permutations of the string ‘abc’ are ‘abc’, ‘acb’, ‘bac’, ‘bca’, ‘cab’, and ‘cba’. Note that a sequence is a permutation of itself (the trivial permutation). Write a program that uses an user defined function strPermutation(string) that takes a string and returns a list of all its permutations.\n",
    "def generatePermutation(string,start,end):  \n",
    "    current = 0;  \n",
    "      \n",
    "    if(start == end-1):  \n",
    "        print(string);  \n",
    "    else:   \n",
    "        for current in range(start,end):  \n",
    "  \n",
    "         \n",
    "            x = list(string);  \n",
    "            temp = x[start];  \n",
    "            x[start] = x[current];  \n",
    "            x[current] = temp;  \n",
    "  \n",
    "        \n",
    "  \n",
    "            generatePermutation(\"\".join(x),start+1,end);  \n",
    "            #Swapping the string by fixing a character  \n",
    "            temp = x[start];  \n",
    "            x[start] = x[current];  \n",
    "            x[current] = temp;  \n",
    "  \n",
    "str = \"ABC\"  \n",
    "n = len(str);  \n",
    "print(\"All the permutations of the string are: \");  \n",
    "generatePermutation(str,0,n);  "
   ]
  }
 ],
 "metadata": {
  "kernelspec": {
   "display_name": "Python 3 (ipykernel)",
   "language": "python",
   "name": "python3"
  },
  "language_info": {
   "codemirror_mode": {
    "name": "ipython",
    "version": 3
   },
   "file_extension": ".py",
   "mimetype": "text/x-python",
   "name": "python",
   "nbconvert_exporter": "python",
   "pygments_lexer": "ipython3",
   "version": "3.9.7"
  }
 },
 "nbformat": 4,
 "nbformat_minor": 5
}
